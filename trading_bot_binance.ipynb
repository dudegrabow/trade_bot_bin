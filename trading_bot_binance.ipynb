{
  "nbformat": 4,
  "nbformat_minor": 0,
  "metadata": {
    "colab": {
      "name": "trading_bot_binance.ipynb",
      "provenance": []
    },
    "kernelspec": {
      "name": "python3",
      "display_name": "Python 3"
    },
    "language_info": {
      "name": "python"
    }
  },
  "cells": [
    {
      "cell_type": "code",
      "execution_count": 1,
      "metadata": {
        "id": "Aoir50qrRTQm"
      },
      "outputs": [],
      "source": [
        "import pandas as pd\n",
        "import sqlalchemy\n",
        "from binance.client import cliente\n",
        "from binance import BinanceSocketManager"
      ]
    },
    {
      "cell_type": "markdown",
      "source": [
        "Substitua pela key da Binance\n",
        " - https://www.youtube.com/watch?v=dII2--v_3lI"
      ],
      "metadata": {
        "id": "I7v6qNG2Rzm-"
      }
    },
    {
      "cell_type": "code",
      "source": [
        "get_ipython().run_line_magic('run', './Binance_Keys.ipynb')"
      ],
      "metadata": {
        "id": "zxzHbhduRXpv"
      },
      "execution_count": null,
      "outputs": []
    },
    {
      "cell_type": "code",
      "source": [
        "client = Client(api_key,api_secret)"
      ],
      "metadata": {
        "id": "lViVnIKmSKY1"
      },
      "execution_count": null,
      "outputs": []
    },
    {
      "cell_type": "code",
      "source": [
        "bsm = BinanceSocketManager(client)"
      ],
      "metadata": {
        "id": "D-Nk9ek7SOUR"
      },
      "execution_count": null,
      "outputs": []
    },
    {
      "cell_type": "code",
      "source": [
        "socket = bsm.trade_socket(pair)"
      ],
      "metadata": {
        "id": "ERuC2r2qSQsX"
      },
      "execution_count": null,
      "outputs": []
    },
    {
      "cell_type": "code",
      "source": [
        "def createframe(msg):\n",
        "    df = pd.DataFrame([msg])\n",
        "    df = df.loc[:,['s','E','p']]\n",
        "    df.columns = ['symbol','Time','Price']\n",
        "    df.Price = df.Price.astype(float)\n",
        "    df.Time = pd.to_datetime(df.Time, unit='ms')\n",
        "    return df"
      ],
      "metadata": {
        "id": "qq8DyHWeSR3E"
      },
      "execution_count": null,
      "outputs": []
    },
    {
      "cell_type": "code",
      "source": [
        "await socket.__aenter__()\n",
        "msg = await socket.recv()\n",
        "frame = createframe(msg)\n",
        "frame.to_sql(pair, engine, if_exists='append', index=False)\n",
        "print(frame)"
      ],
      "metadata": {
        "id": "GhADfKLkSUSX"
      },
      "execution_count": null,
      "outputs": []
    },
    {
      "cell_type": "markdown",
      "source": [
        "Final do Script"
      ],
      "metadata": {
        "id": "GyldQGPESZXp"
      }
    },
    {
      "cell_type": "markdown",
      "source": [
        "Estratégia"
      ],
      "metadata": {
        "id": "jbpaXD6HSd6l"
      }
    },
    {
      "cell_type": "code",
      "source": [
        "import sqlalchemy\n",
        "import pandas as pd\n",
        "from binance.client import Client"
      ],
      "metadata": {
        "id": "Z2QBgtlMSbr2"
      },
      "execution_count": null,
      "outputs": []
    },
    {
      "cell_type": "code",
      "source": [
        "get_ipython().run_line_magic('run', './Binance_Keys.ipynb')"
      ],
      "metadata": {
        "id": "kDzNC98WSfMF"
      },
      "execution_count": null,
      "outputs": []
    },
    {
      "cell_type": "code",
      "source": [
        "client = Client(api_key,api_secret)"
      ],
      "metadata": {
        "id": "dClPkzkjSgv3"
      },
      "execution_count": null,
      "outputs": []
    },
    {
      "cell_type": "code",
      "source": [
        "engine = sqlalchemy.create_engine('sqlite:///'stream.db')"
      ],
      "metadata": {
        "id": "e5pYILj9Sh8s"
      },
      "execution_count": null,
      "outputs": []
    },
    {
      "cell_type": "code",
      "source": [
        "#Trendfollowing\n",
        "#if the crypto was rising by x % -> Buy\n",
        "#exit when profit is above 0.15% or loss is crossing -0.15%\n",
        "#Seguidor de Tendência\n",
        "#Se a criptomoeda estiver subindo x % -> Compre\n",
        "#Saia quando o lucro estiver acima de 0.15% ou prejuízo acima -0.15%"
      ],
      "metadata": {
        "id": "gQzeZDgNSk4A"
      },
      "execution_count": null,
      "outputs": []
    },
    {
      "cell_type": "code",
      "source": [
        "def strategy(entry, lookback, qty, open_position=False):\n",
        "    while True:\n",
        "        df = pd.read_sql(pair, engine)\n",
        "        lookbackperiod = df.iloc[-lookback:]\n",
        "        cumret = (lookbackperiod.Price.pct_change() +1).cumprod() - 1\n",
        "        if not open_position:\n",
        "            if cumret[cumret.last_valid_index()] > entry:\n",
        "                order = client.create_order(symbol=pair,\n",
        "                                           side='BUY',\n",
        "                                           type='MARKET',\n",
        "                                           quantity=qty)\n",
        "                print(order)\n",
        "                open_position = True\n",
        "                break\n",
        "    if open_position:\n",
        "        while True:\n",
        "            df = pd.read_sql('BTCUSDT', engine)\n",
        "            sincebuy = df.loc[df.Time > \n",
        "                              pd.to_datetime(order['transactTime'],\n",
        "                                            unit='ms')]\n",
        "            if len(sincebuy) > 1:\n",
        "                sincebuyret = (sincebuy.Price.pct_change() +1).cumprod() - 1\n",
        "                last_entry = sincebuyret[sincebuyret.last_valid_index()]\n",
        "                if last_entry > 0.0015 or last_entry < -0.0015:\n",
        "                    order = client.create_order(symbol=pair,\n",
        "                                           side='SELL',\n",
        "                                           type='MARKET',\n",
        "                                           quantity=qty)\n",
        "                    print(order)\n",
        "                    break"
      ],
      "metadata": {
        "id": "Xdhw3Iq6Soq3"
      },
      "execution_count": null,
      "outputs": []
    },
    {
      "cell_type": "code",
      "source": [
        "strategy(0.001, 60, 0.001)"
      ],
      "metadata": {
        "id": "Gk2shL4xS-W7"
      },
      "execution_count": null,
      "outputs": []
    },
    {
      "cell_type": "markdown",
      "source": [
        ""
      ],
      "metadata": {
        "id": "oqMHY9TJSxFH"
      }
    }
  ]
}